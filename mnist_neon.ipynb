{
  "cells": [
    {
      "metadata": {
        "_uuid": "8f2839f25d086af736a60e9eeb907d3b93b6e0e5",
        "_cell_guid": "b1076dfc-b9ad-4769-8c92-a6c4dae69d19",
        "trusted": true
      },
      "cell_type": "code",
      "source": "# This Python 3 environment comes with many helpful analytics libraries installed\n# It is defined by the kaggle/python docker image: https://github.com/kaggle/docker-python\n# For example, here's several helpful packages to load in \n\nimport numpy as np # linear algebra\nimport pandas as pd # data processing, CSV file I/O (e.g. pd.read_csv)\n\n# Input data files are available in the \"../input/\" directory.\n# For example, running this (by clicking run or pressing Shift+Enter) will list the files in the input directory\n\nimport os\nprint(os.listdir(\"../input\"))\n\n# Any results you write to the current directory are saved as output.",
      "execution_count": 1,
      "outputs": [
        {
          "output_type": "stream",
          "text": "['seven.png']\n",
          "name": "stdout"
        }
      ]
    },
    {
      "metadata": {
        "_cell_guid": "79c7e3d0-c299-4dcb-8224-4455121ee9b0",
        "_uuid": "d629ff2d2480ee46fbb7e2d37f6b5fab8052498a",
        "trusted": true
      },
      "cell_type": "code",
      "source": "from neon.backends import gen_backend\n\nbatch_size = 128\n\nbe = gen_backend(batch_size=batch_size)",
      "execution_count": 2,
      "outputs": [
        {
          "output_type": "stream",
          "text": "DISPLAY:neon:mklEngine.so not found\n",
          "name": "stderr"
        }
      ]
    },
    {
      "metadata": {
        "trusted": true,
        "_uuid": "0cee82fca6fb15c0d396c3608d48a79026d691d5"
      },
      "cell_type": "code",
      "source": "from neon.data import MNIST\n\nmnist = MNIST()\ntrain_set = mnist.train_iter\nvalid_set = mnist.valid_iter",
      "execution_count": 3,
      "outputs": [
        {
          "output_type": "stream",
          "text": "DISPLAY:neon:Downloading file: ./mnist.pkl.gz\n",
          "name": "stderr"
        },
        {
          "output_type": "stream",
          "text": "Download Progress |██████████████████████████████████████████████████| ",
          "name": "stdout"
        },
        {
          "output_type": "stream",
          "text": "DISPLAY:neon:Download Complete\n",
          "name": "stderr"
        }
      ]
    },
    {
      "metadata": {
        "trusted": true,
        "_uuid": "2beb8158385c22634d6fc99338be5fb46a1a9be1"
      },
      "cell_type": "code",
      "source": "from neon.initializers import Gaussian\n\ninit_norm = Gaussian(loc=0.0, scale=0.01)",
      "execution_count": 4,
      "outputs": []
    },
    {
      "metadata": {
        "trusted": true,
        "_uuid": "a886af194687f3fde14d04fc356048a6b2d7faeb"
      },
      "cell_type": "code",
      "source": "from neon.layers import Affine,Conv,Pooling,Dropout\nfrom neon.transforms import Rectlin, Softmax\n\nlayers = []\nlayers.append(Conv(fshape=(5,5,32),padding={'pad_w':2,'pad_h':2},init=init_norm,activation=Rectlin()))\nlayers.append(Pooling(fshape=2,strides=2))\nlayers.append(Conv(fshape=(5,5,64),padding={'pad_w':2,'pad_h':2},init=init_norm,activation=Rectlin()))\nlayers.append(Pooling(fshape=2,strides=2))\nlayers.append(Affine(nout=100, init=init_norm,\n                     activation=Rectlin()))\nlayers.append(Dropout(keep=0.5))\nlayers.append(Affine(nout=10, init=init_norm,\n                     activation=Softmax()))",
      "execution_count": 5,
      "outputs": []
    },
    {
      "metadata": {
        "trusted": true,
        "_uuid": "6cb4b60736c16f079c3e719c64d3f794c9d4e769"
      },
      "cell_type": "code",
      "source": "from neon.models import Model\n\nmlp = Model(layers=layers)",
      "execution_count": 6,
      "outputs": []
    },
    {
      "metadata": {
        "trusted": true,
        "_uuid": "7cff00bcd2ccdcd1e641241eb2452bca30d6d7e1"
      },
      "cell_type": "code",
      "source": "from neon.layers import GeneralizedCost\nfrom neon.transforms import CrossEntropyMulti\n\ncost = GeneralizedCost(costfunc=CrossEntropyMulti())",
      "execution_count": 7,
      "outputs": []
    },
    {
      "metadata": {
        "trusted": true,
        "_uuid": "b250dd186f471b7bbad848c3b84b2d5b54cbe065"
      },
      "cell_type": "code",
      "source": "from neon.optimizers import GradientDescentMomentum\n\noptimizer = GradientDescentMomentum(0.15, momentum_coef=0.9)",
      "execution_count": 8,
      "outputs": []
    },
    {
      "metadata": {
        "trusted": true,
        "_uuid": "230abb17b3bceb9a83fb5f03217aab3316d17fef"
      },
      "cell_type": "code",
      "source": "from neon.callbacks.callbacks import Callbacks\n\ncallbacks = Callbacks(mlp, eval_set=valid_set)\n",
      "execution_count": 9,
      "outputs": []
    },
    {
      "metadata": {
        "trusted": true,
        "_uuid": "4e8b8d5a400b89ad848e00a6ed15e37dac5e166d"
      },
      "cell_type": "code",
      "source": "mlp.fit(train_set, optimizer=optimizer, num_epochs=6, cost=cost,\n        callbacks=callbacks)",
      "execution_count": 10,
      "outputs": [
        {
          "output_type": "stream",
          "text": "/opt/conda/lib/python3.6/site-packages/neon/backends/nervanacpu.py:681: FutureWarning: Using a non-tuple sequence for multidimensional indexing is deprecated; use `arr[tuple(seq)]` instead of `arr[seq]`. In the future this will be interpreted as an array index, `arr[np.array(seq)]`, which will result either in an error or a different result.\n  array_output[numpy_ind.tolist()] = 1\n",
          "name": "stderr"
        },
        {
          "output_type": "stream",
          "text": "Epoch 0   [Train |████████████████████|  469/469  batches, 0.19 cost, 381.07s]\nEpoch 1   [Train |████████████████████|  469/469  batches, 0.15 cost, 376.91s]\nEpoch 2   [Train |████████████████████|  469/469  batches, 0.11 cost, 376.88s]\nEpoch 3   [Train |████████████████████|  468/468  batches, 0.10 cost, 372.31s]\nEpoch 4   [Train |████████████████████|  468/468  batches, 0.06 cost, 372.93s]\nEpoch 5   [Train |████████████████████|  468/468  batches, 0.07 cost, 374.60s]\n",
          "name": "stdout"
        }
      ]
    },
    {
      "metadata": {
        "trusted": true,
        "_uuid": "d8ada25c8c395a6ad048f70c1cb5f3382de0faec"
      },
      "cell_type": "code",
      "source": "results = mlp.get_outputs(valid_set)",
      "execution_count": 11,
      "outputs": [
        {
          "output_type": "stream",
          "text": "/opt/conda/lib/python3.6/site-packages/neon/backends/nervanacpu.py:681: FutureWarning: Using a non-tuple sequence for multidimensional indexing is deprecated; use `arr[tuple(seq)]` instead of `arr[seq]`. In the future this will be interpreted as an array index, `arr[np.array(seq)]`, which will result either in an error or a different result.\n  array_output[numpy_ind.tolist()] = 1\n",
          "name": "stderr"
        }
      ]
    },
    {
      "metadata": {
        "trusted": true,
        "_uuid": "8552191bb8a489ffc1a9b67dcb732d063ec4da49"
      },
      "cell_type": "code",
      "source": "from neon.transforms import Misclassification\n\n# evaluate the model on test_set using the misclassification metric\nerror = mlp.eval(valid_set, metric=Misclassification())*100\nprint('Misclassification error = %.1f%%' % error)",
      "execution_count": 12,
      "outputs": [
        {
          "output_type": "stream",
          "text": "/opt/conda/lib/python3.6/site-packages/neon/backends/nervanacpu.py:681: FutureWarning: Using a non-tuple sequence for multidimensional indexing is deprecated; use `arr[tuple(seq)]` instead of `arr[seq]`. In the future this will be interpreted as an array index, `arr[np.array(seq)]`, which will result either in an error or a different result.\n  array_output[numpy_ind.tolist()] = 1\n",
          "name": "stderr"
        },
        {
          "output_type": "stream",
          "text": "Misclassification error = 1.1%\n",
          "name": "stdout"
        }
      ]
    },
    {
      "metadata": {
        "trusted": true,
        "_uuid": "c9f13b241259507660ff82d5eafd6274ec908cb5"
      },
      "cell_type": "code",
      "source": "from PIL import Image\nimport numpy as np\nimport matplotlib.pyplot as plt\n%matplotlib inline \n\n# scale to 28x28 pixels\nimg = Image.open(\"../input/seven.png\")\n\n\nimg.thumbnail((28, 28))\n\ndigit = np.asarray(img, dtype=np.float32) #[:, :, 0]\nprint(digit.shape)\n# reshape to a single feature vector\ndigit = digit.reshape(784, 1)\n# store digit into a GPU tensor\nx_new = be.zeros((28*28, batch_size), dtype=np.float32)\nx_new[:, 0] = digit\n",
      "execution_count": 13,
      "outputs": [
        {
          "output_type": "stream",
          "text": "(28, 28)\n",
          "name": "stdout"
        }
      ]
    },
    {
      "metadata": {
        "trusted": true,
        "_uuid": "11e69b00441f731a023f71a0cd7417e7ecf064fe"
      },
      "cell_type": "code",
      "source": "outputs = mlp.fprop(x_new)\noutputs = outputs.get()[:, 0]\n\n# examine the output of the model for this image\nprint(\"Model final layer was: {}\".format(outputs))\nprint(\"The most probable guess is digit: {}\".format(np.argmax(outputs)))\nplt.figure(2)\nplt.imshow(img)",
      "execution_count": 14,
      "outputs": [
        {
          "output_type": "stream",
          "text": "Model final layer was: [0. 0. 0. 0. 0. 0. 0. 1. 0. 0.]\nThe most probable guess is digit: 7\n",
          "name": "stdout"
        },
        {
          "output_type": "execute_result",
          "execution_count": 14,
          "data": {
            "text/plain": "<matplotlib.image.AxesImage at 0x7f954707c4e0>"
          },
          "metadata": {}
        },
        {
          "output_type": "display_data",
          "data": {
            "text/plain": "<Figure size 432x288 with 1 Axes>",
            "image/png": "[encoded data removed]"
          },
          "metadata": {}
        }
      ]
    },
    {
      "metadata": {
        "trusted": true,
        "_uuid": "5e54667c90f44b11f1d11f2222cbf81f9244d540"
      },
      "cell_type": "code",
      "source": "",
      "execution_count": null,
      "outputs": []
    }
  ],
  "metadata": {
    "kernelspec": {
      "display_name": "Python 3",
      "language": "python",
      "name": "python3"
    },
    "language_info": {
      "name": "python",
      "version": "3.6.6",
      "mimetype": "text/x-python",
      "codemirror_mode": {
        "name": "ipython",
        "version": 3
      },
      "pygments_lexer": "ipython3",
      "nbconvert_exporter": "python",
      "file_extension": ".py"
    }
  },
  "nbformat": 4,
  "nbformat_minor": 1
}